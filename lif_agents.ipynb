{
 "cells": [
  {
   "cell_type": "code",
   "execution_count": 1,
   "id": "44083d27",
   "metadata": {},
   "outputs": [],
   "source": [
    "using Agents"
   ]
  },
  {
   "cell_type": "code",
   "execution_count": 2,
   "id": "f15ff88f",
   "metadata": {},
   "outputs": [],
   "source": [
    "# Single LIF Neuron using Agents.jl"
   ]
  },
  {
   "cell_type": "code",
   "execution_count": 3,
   "id": "75ce0b8c",
   "metadata": {},
   "outputs": [
    {
     "data": {
      "text/plain": [
       "GridSpaceSingle with size (1, 1), metric=chebyshev, periodic=true"
      ]
     },
     "execution_count": 3,
     "metadata": {},
     "output_type": "execute_result"
    }
   ],
   "source": [
    "space = GridSpaceSingle((1, 1))"
   ]
  },
  {
   "cell_type": "code",
   "execution_count": 4,
   "id": "d0192781",
   "metadata": {},
   "outputs": [],
   "source": [
    "@agent LIFAgent GridAgent{2} begin\n",
    "    W::Float32\n",
    "    V::Float32  # Summed somatic potential\n",
    "end"
   ]
  },
  {
   "cell_type": "code",
   "execution_count": 5,
   "id": "59b64e75",
   "metadata": {},
   "outputs": [
    {
     "data": {
      "text/plain": [
       "StandardABM with 0 agents of type LIFAgent\n",
       " space: GridSpaceSingle with size (1, 1), metric=chebyshev, periodic=true\n",
       " scheduler: fastest\n",
       " properties: current_timestep, input_spiketrain"
      ]
     },
     "execution_count": 5,
     "metadata": {},
     "output_type": "execute_result"
    }
   ],
   "source": [
    "mutable struct Internal  # of time step, and spike time\n",
    "    current_timestep\n",
    "    input_spiketrain \n",
    "end\n",
    "internal = Internal(0, [600, 400, 200])\n",
    "model = ABM(LIFAgent, space; properties = internal)"
   ]
  },
  {
   "cell_type": "code",
   "execution_count": 6,
   "id": "58a9d8af",
   "metadata": {},
   "outputs": [
    {
     "data": {
      "text/plain": [
       "agent_step! (generic function with 1 method)"
      ]
     },
     "execution_count": 6,
     "metadata": {},
     "output_type": "execute_result"
    }
   ],
   "source": [
    "function agent_step!(agent, model)\n",
    "    time = model.current_timestep\n",
    "    spike = model.input_spiketrain\n",
    "    threshold = 1.\n",
    "    alpha = 0.998001\n",
    "    agent.V *= alpha\n",
    "    if !isempty(spike) && time > spike[end]\n",
    "        agent.V += agent.W\n",
    "        pop!(spike)\n",
    "    end\n",
    "    if time == 500\n",
    "        println(spike)\n",
    "    end\n",
    "    if agent.V > threshold\n",
    "        agent.V = 0\n",
    "    end\n",
    "end"
   ]
  },
  {
   "cell_type": "code",
   "execution_count": 7,
   "id": "66d96d68",
   "metadata": {},
   "outputs": [
    {
     "data": {
      "text/plain": [
       "model_step! (generic function with 1 method)"
      ]
     },
     "execution_count": 7,
     "metadata": {},
     "output_type": "execute_result"
    }
   ],
   "source": [
    "function model_step!(model)\n",
    "    model.current_timestep += 1\n",
    "end"
   ]
  },
  {
   "cell_type": "code",
   "execution_count": 8,
   "id": "ba600d22",
   "metadata": {},
   "outputs": [
    {
     "data": {
      "text/plain": [
       "LIFAgent(1, (1, 1), 0.5f0, 0.0f0)"
      ]
     },
     "execution_count": 8,
     "metadata": {},
     "output_type": "execute_result"
    }
   ],
   "source": [
    "lifneuron = LIFAgent(1, (1, 1), 0.5, 0)"
   ]
  },
  {
   "cell_type": "code",
   "execution_count": 9,
   "id": "e9044ac6",
   "metadata": {},
   "outputs": [
    {
     "data": {
      "text/plain": [
       "LIFAgent(1, (1, 1), 0.5f0, 0.0f0)"
      ]
     },
     "execution_count": 9,
     "metadata": {},
     "output_type": "execute_result"
    }
   ],
   "source": [
    "add_agent_single!(lifneuron, model)"
   ]
  },
  {
   "cell_type": "code",
   "execution_count": 10,
   "id": "fbaf5fae",
   "metadata": {},
   "outputs": [
    {
     "name": "stdout",
     "output_type": "stream",
     "text": [
      "[600]\n"
     ]
    },
    {
     "data": {
      "text/plain": [
       "(\u001b[1m1001×3 DataFrame\u001b[0m\n",
       "\u001b[1m  Row \u001b[0m│\u001b[1m step  \u001b[0m\u001b[1m id    \u001b[0m\u001b[1m V       \u001b[0m\n",
       "      │\u001b[90m Int64 \u001b[0m\u001b[90m Int64 \u001b[0m\u001b[90m Float32 \u001b[0m\n",
       "──────┼───────────────────────\n",
       "    1 │     0      1      0.0\n",
       "    2 │     1      1      0.0\n",
       "    3 │     2      1      0.0\n",
       "    4 │     3      1      0.0\n",
       "    5 │     4      1      0.0\n",
       "    6 │     5      1      0.0\n",
       "    7 │     6      1      0.0\n",
       "    8 │     7      1      0.0\n",
       "    9 │     8      1      0.0\n",
       "   10 │     9      1      0.0\n",
       "   11 │    10      1      0.0\n",
       "  ⋮   │   ⋮      ⋮       ⋮\n",
       "  992 │   991      1      0.0\n",
       "  993 │   992      1      0.0\n",
       "  994 │   993      1      0.0\n",
       "  995 │   994      1      0.0\n",
       "  996 │   995      1      0.0\n",
       "  997 │   996      1      0.0\n",
       "  998 │   997      1      0.0\n",
       "  999 │   998      1      0.0\n",
       " 1000 │   999      1      0.0\n",
       " 1001 │  1000      1      0.0\n",
       "\u001b[36m              980 rows omitted\u001b[0m, \u001b[1m0×0 DataFrame\u001b[0m)"
      ]
     },
     "execution_count": 10,
     "metadata": {},
     "output_type": "execute_result"
    }
   ],
   "source": [
    "adata = [:V]\n",
    "data, _ = run!(model, agent_step!, model_step!, 1000; adata)"
   ]
  },
  {
   "cell_type": "code",
   "execution_count": 11,
   "id": "b174a767",
   "metadata": {},
   "outputs": [
    {
     "data": {
      "text/html": [
       "<div><div style = \"float: left;\"><span>21×3 DataFrame</span></div><div style = \"clear: both;\"></div></div><div class = \"data-frame\" style = \"overflow-x: scroll;\"><table class = \"data-frame\" style = \"margin-bottom: 6px;\"><thead><tr class = \"header\"><th class = \"rowNumber\" style = \"font-weight: bold; text-align: right;\">Row</th><th style = \"text-align: left;\">step</th><th style = \"text-align: left;\">id</th><th style = \"text-align: left;\">V</th></tr><tr class = \"subheader headerLastRow\"><th class = \"rowNumber\" style = \"font-weight: bold; text-align: right;\"></th><th title = \"Int64\" style = \"text-align: left;\">Int64</th><th title = \"Int64\" style = \"text-align: left;\">Int64</th><th title = \"Float32\" style = \"text-align: left;\">Float32</th></tr></thead><tbody><tr><td class = \"rowNumber\" style = \"font-weight: bold; text-align: right;\">1</td><td style = \"text-align: right;\">589</td><td style = \"text-align: right;\">1</td><td style = \"text-align: right;\">0.574417</td></tr><tr><td class = \"rowNumber\" style = \"font-weight: bold; text-align: right;\">2</td><td style = \"text-align: right;\">590</td><td style = \"text-align: right;\">1</td><td style = \"text-align: right;\">0.573269</td></tr><tr><td class = \"rowNumber\" style = \"font-weight: bold; text-align: right;\">3</td><td style = \"text-align: right;\">591</td><td style = \"text-align: right;\">1</td><td style = \"text-align: right;\">0.572123</td></tr><tr><td class = \"rowNumber\" style = \"font-weight: bold; text-align: right;\">4</td><td style = \"text-align: right;\">592</td><td style = \"text-align: right;\">1</td><td style = \"text-align: right;\">0.570979</td></tr><tr><td class = \"rowNumber\" style = \"font-weight: bold; text-align: right;\">5</td><td style = \"text-align: right;\">593</td><td style = \"text-align: right;\">1</td><td style = \"text-align: right;\">0.569838</td></tr><tr><td class = \"rowNumber\" style = \"font-weight: bold; text-align: right;\">6</td><td style = \"text-align: right;\">594</td><td style = \"text-align: right;\">1</td><td style = \"text-align: right;\">0.568699</td></tr><tr><td class = \"rowNumber\" style = \"font-weight: bold; text-align: right;\">7</td><td style = \"text-align: right;\">595</td><td style = \"text-align: right;\">1</td><td style = \"text-align: right;\">0.567562</td></tr><tr><td class = \"rowNumber\" style = \"font-weight: bold; text-align: right;\">8</td><td style = \"text-align: right;\">596</td><td style = \"text-align: right;\">1</td><td style = \"text-align: right;\">0.566428</td></tr><tr><td class = \"rowNumber\" style = \"font-weight: bold; text-align: right;\">9</td><td style = \"text-align: right;\">597</td><td style = \"text-align: right;\">1</td><td style = \"text-align: right;\">0.565295</td></tr><tr><td class = \"rowNumber\" style = \"font-weight: bold; text-align: right;\">10</td><td style = \"text-align: right;\">598</td><td style = \"text-align: right;\">1</td><td style = \"text-align: right;\">0.564165</td></tr><tr><td class = \"rowNumber\" style = \"font-weight: bold; text-align: right;\">11</td><td style = \"text-align: right;\">599</td><td style = \"text-align: right;\">1</td><td style = \"text-align: right;\">0.563037</td></tr><tr><td class = \"rowNumber\" style = \"font-weight: bold; text-align: right;\">12</td><td style = \"text-align: right;\">600</td><td style = \"text-align: right;\">1</td><td style = \"text-align: right;\">0.561912</td></tr><tr><td class = \"rowNumber\" style = \"font-weight: bold; text-align: right;\">13</td><td style = \"text-align: right;\">601</td><td style = \"text-align: right;\">1</td><td style = \"text-align: right;\">0.560789</td></tr><tr><td class = \"rowNumber\" style = \"font-weight: bold; text-align: right;\">14</td><td style = \"text-align: right;\">602</td><td style = \"text-align: right;\">1</td><td style = \"text-align: right;\">0.0</td></tr><tr><td class = \"rowNumber\" style = \"font-weight: bold; text-align: right;\">15</td><td style = \"text-align: right;\">603</td><td style = \"text-align: right;\">1</td><td style = \"text-align: right;\">0.0</td></tr><tr><td class = \"rowNumber\" style = \"font-weight: bold; text-align: right;\">16</td><td style = \"text-align: right;\">604</td><td style = \"text-align: right;\">1</td><td style = \"text-align: right;\">0.0</td></tr><tr><td class = \"rowNumber\" style = \"font-weight: bold; text-align: right;\">17</td><td style = \"text-align: right;\">605</td><td style = \"text-align: right;\">1</td><td style = \"text-align: right;\">0.0</td></tr><tr><td class = \"rowNumber\" style = \"font-weight: bold; text-align: right;\">18</td><td style = \"text-align: right;\">606</td><td style = \"text-align: right;\">1</td><td style = \"text-align: right;\">0.0</td></tr><tr><td class = \"rowNumber\" style = \"font-weight: bold; text-align: right;\">19</td><td style = \"text-align: right;\">607</td><td style = \"text-align: right;\">1</td><td style = \"text-align: right;\">0.0</td></tr><tr><td class = \"rowNumber\" style = \"font-weight: bold; text-align: right;\">20</td><td style = \"text-align: right;\">608</td><td style = \"text-align: right;\">1</td><td style = \"text-align: right;\">0.0</td></tr><tr><td class = \"rowNumber\" style = \"font-weight: bold; text-align: right;\">21</td><td style = \"text-align: right;\">609</td><td style = \"text-align: right;\">1</td><td style = \"text-align: right;\">0.0</td></tr></tbody></table></div>"
      ],
      "text/latex": [
       "\\begin{tabular}{r|ccc}\n",
       "\t& step & id & V\\\\\n",
       "\t\\hline\n",
       "\t& Int64 & Int64 & Float32\\\\\n",
       "\t\\hline\n",
       "\t1 & 589 & 1 & 0.574417 \\\\\n",
       "\t2 & 590 & 1 & 0.573269 \\\\\n",
       "\t3 & 591 & 1 & 0.572123 \\\\\n",
       "\t4 & 592 & 1 & 0.570979 \\\\\n",
       "\t5 & 593 & 1 & 0.569838 \\\\\n",
       "\t6 & 594 & 1 & 0.568699 \\\\\n",
       "\t7 & 595 & 1 & 0.567562 \\\\\n",
       "\t8 & 596 & 1 & 0.566428 \\\\\n",
       "\t9 & 597 & 1 & 0.565295 \\\\\n",
       "\t10 & 598 & 1 & 0.564165 \\\\\n",
       "\t11 & 599 & 1 & 0.563037 \\\\\n",
       "\t12 & 600 & 1 & 0.561912 \\\\\n",
       "\t13 & 601 & 1 & 0.560789 \\\\\n",
       "\t14 & 602 & 1 & 0.0 \\\\\n",
       "\t15 & 603 & 1 & 0.0 \\\\\n",
       "\t16 & 604 & 1 & 0.0 \\\\\n",
       "\t17 & 605 & 1 & 0.0 \\\\\n",
       "\t18 & 606 & 1 & 0.0 \\\\\n",
       "\t19 & 607 & 1 & 0.0 \\\\\n",
       "\t20 & 608 & 1 & 0.0 \\\\\n",
       "\t21 & 609 & 1 & 0.0 \\\\\n",
       "\\end{tabular}\n"
      ],
      "text/plain": [
       "\u001b[1m21×3 DataFrame\u001b[0m\n",
       "\u001b[1m Row \u001b[0m│\u001b[1m step  \u001b[0m\u001b[1m id    \u001b[0m\u001b[1m V        \u001b[0m\n",
       "     │\u001b[90m Int64 \u001b[0m\u001b[90m Int64 \u001b[0m\u001b[90m Float32  \u001b[0m\n",
       "─────┼────────────────────────\n",
       "   1 │   589      1  0.574417\n",
       "   2 │   590      1  0.573269\n",
       "   3 │   591      1  0.572123\n",
       "   4 │   592      1  0.570979\n",
       "   5 │   593      1  0.569838\n",
       "   6 │   594      1  0.568699\n",
       "   7 │   595      1  0.567562\n",
       "   8 │   596      1  0.566428\n",
       "   9 │   597      1  0.565295\n",
       "  10 │   598      1  0.564165\n",
       "  11 │   599      1  0.563037\n",
       "  12 │   600      1  0.561912\n",
       "  13 │   601      1  0.560789\n",
       "  14 │   602      1  0.0\n",
       "  15 │   603      1  0.0\n",
       "  16 │   604      1  0.0\n",
       "  17 │   605      1  0.0\n",
       "  18 │   606      1  0.0\n",
       "  19 │   607      1  0.0\n",
       "  20 │   608      1  0.0\n",
       "  21 │   609      1  0.0"
      ]
     },
     "execution_count": 11,
     "metadata": {},
     "output_type": "execute_result"
    }
   ],
   "source": [
    "data[590:610, :]"
   ]
  },
  {
   "cell_type": "code",
   "execution_count": null,
   "id": "73ae3e2c",
   "metadata": {},
   "outputs": [],
   "source": []
  },
  {
   "cell_type": "code",
   "execution_count": null,
   "id": "ef8adb5e",
   "metadata": {},
   "outputs": [],
   "source": []
  },
  {
   "cell_type": "code",
   "execution_count": null,
   "id": "c52237a6",
   "metadata": {},
   "outputs": [],
   "source": []
  }
 ],
 "metadata": {
  "kernelspec": {
   "display_name": "Julia 1.8.5",
   "language": "julia",
   "name": "julia-1.8"
  },
  "language_info": {
   "file_extension": ".jl",
   "mimetype": "application/julia",
   "name": "julia",
   "version": "1.8.5"
  }
 },
 "nbformat": 4,
 "nbformat_minor": 5
}
