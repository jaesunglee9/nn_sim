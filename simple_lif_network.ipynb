{
 "cells": [
  {
   "cell_type": "markdown",
   "id": "980a75be",
   "metadata": {},
   "source": [
    "# 2. Simple LIF neural network in basic clock-driven algorithm\n",
    "No delays\n",
    "\n",
    "No refractory periods\n",
    "\n",
    "No inhibitory neurons"
   ]
  },
  {
   "cell_type": "code",
   "execution_count": 1,
   "id": "9ce1d216",
   "metadata": {},
   "outputs": [],
   "source": [
    "using Plots, StructArrays, LinearAlgebra"
   ]
  },
  {
   "cell_type": "code",
   "execution_count": 2,
   "id": "8f9e9586",
   "metadata": {},
   "outputs": [
    {
     "data": {
      "text/plain": [
       "100"
      ]
     },
     "execution_count": 2,
     "metadata": {},
     "output_type": "execute_result"
    }
   ],
   "source": [
    "const total_time = 10  # seconds\n",
    "const τ = 50.  # decay rate\n",
    "const θ = 1.  # threshold potential\n",
    "const ρ = 0.  # baseline potential\n",
    "const dt = 0.1  # timestep\n",
    "const alpha = exp(-dt/τ)\n",
    "const total_step = Int(total_time / dt)"
   ]
  },
  {
   "cell_type": "code",
   "execution_count": 3,
   "id": "b24c6081",
   "metadata": {},
   "outputs": [
    {
     "data": {
      "text/plain": [
       "Neuron"
      ]
     },
     "execution_count": 3,
     "metadata": {},
     "output_type": "execute_result"
    }
   ],
   "source": [
    "mutable struct Neuron\n",
    "    V  # Neuron somatic membrane potential\n",
    "    spike_out::Array{Float32}\n",
    "end\n",
    "Neuron() = Neuron(0, Array{Float32, 1}(undef, total_step))"
   ]
  },
  {
   "cell_type": "code",
   "execution_count": 4,
   "id": "3f286eee",
   "metadata": {},
   "outputs": [
    {
     "data": {
      "text/plain": [
       "5-element Vector{Neuron}:\n",
       " Neuron(0, Float32[0.0, 0.0, 0.0, 0.0, 0.0, 0.0, 0.0, 0.0, 0.0, 0.0  …  0.0, 0.0, 0.0, 0.0, 0.0, 0.0, 0.0, 0.0, 0.0, 0.0])\n",
       " Neuron(0, Float32[-9.109722f14, 4.583f-41, -9.109765f14, 4.583f-41, 1.4f-44, 0.0, 1.5f-44, 0.0, -9.109808f14, 4.583f-41  …  -9.11071f14, 4.583f-41, 4.8f-44, 0.0, 5.2f-44, 0.0, -9.110753f14, 4.583f-41, -9.110796f14, 4.583f-41])\n",
       " Neuron(0, Float32[1.3f-44, 0.0, 1.3f-44, 0.0, -9.165342f14, 4.583f-41, -9.165385f14, 4.583f-41, 1.4f-44, 0.0  …  4.6f-44, 0.0, -9.166287f14, 4.583f-41, -9.16633f14, 4.583f-41, 4.8f-44, 0.0, 5.2f-44, 0.0])\n",
       " Neuron(0, Float32[1.0f-45, 0.0, 3.0f-45, 0.0, 1.0f-45, 0.0, 1.0f-45, 0.0, 1.0f-45, 0.0  …  1.0f-45, 0.0, 0.0, 0.0, 0.0, 0.0, 0.0, 0.0, 0.0, 0.0])\n",
       " Neuron(0, Float32[0.0, 0.0, 0.0, 0.0, 0.0, 0.0, 0.0, 0.0, 0.0, 0.0  …  0.0, 0.0, 0.0, 0.0, 0.0, 0.0, 0.0, 0.0, 0.0, 0.0])"
      ]
     },
     "execution_count": 4,
     "metadata": {},
     "output_type": "execute_result"
    }
   ],
   "source": [
    "l1_n = 5\n",
    "l2_n = 3\n",
    "\n",
    "l1 = Vector{Neuron}()\n",
    "l2 = Vector{Neuron}()\n",
    "\n",
    "for i in 1:l1_n\n",
    "    push!(l1, Neuron())\n",
    "end\n",
    "for i in 1:l2_n\n",
    "    push!(l2, Neuron())\n",
    "end\n",
    "l1"
   ]
  },
  {
   "cell_type": "code",
   "execution_count": 21,
   "id": "4dd7112c",
   "metadata": {},
   "outputs": [
    {
     "data": {
      "text/plain": [
       "5×3 Matrix{Float64}:\n",
       " 1.10621   0.0       0.0\n",
       " 0.0       1.20884   0.283888\n",
       " 1.19339   0.0       0.0\n",
       " 1.45479   0.704365  0.168471\n",
       " 0.241449  0.0       1.25201"
      ]
     },
     "execution_count": 21,
     "metadata": {},
     "output_type": "execute_result"
    }
   ],
   "source": [
    "synapse = randn(l1_n, l2_n)\n",
    "for i in 1:l1_n, j in 1:l2_n\n",
    "    if synapse[i, j] < 0\n",
    "        synapse[i, j] = 0\n",
    "    end\n",
    "end\n",
    "synapse"
   ]
  },
  {
   "cell_type": "code",
   "execution_count": 22,
   "id": "b298c45e",
   "metadata": {},
   "outputs": [
    {
     "data": {
      "text/plain": [
       "5×100 Matrix{Int64}:\n",
       " 0  1  0  0  0  0  1  1  0  1  1  0  1  …  0  0  0  1  1  1  1  0  0  0  0  0\n",
       " 1  0  0  1  1  0  0  1  1  1  0  1  0     1  1  1  1  1  1  1  1  1  0  0  1\n",
       " 0  0  0  0  1  0  1  0  1  0  1  0  1     0  1  0  0  1  1  0  1  1  0  0  0\n",
       " 0  1  1  0  0  1  1  1  1  1  1  0  0     1  0  1  0  0  0  1  0  0  1  1  1\n",
       " 0  0  0  1  1  1  1  0  1  1  1  0  1     1  1  1  1  0  1  0  1  0  0  0  0"
      ]
     },
     "execution_count": 22,
     "metadata": {},
     "output_type": "execute_result"
    }
   ],
   "source": [
    "st_in = rand(0:1, l1_n, Int(total_time/dt))  # array of size number_of_neurons_in_l1 * total_time_steps"
   ]
  },
  {
   "cell_type": "code",
   "execution_count": 23,
   "id": "d2c47e09",
   "metadata": {},
   "outputs": [
    {
     "data": {
      "text/plain": [
       "5×5 Diagonal{Bool, Vector{Bool}}:\n",
       " 1  ⋅  ⋅  ⋅  ⋅\n",
       " ⋅  1  ⋅  ⋅  ⋅\n",
       " ⋅  ⋅  1  ⋅  ⋅\n",
       " ⋅  ⋅  ⋅  1  ⋅\n",
       " ⋅  ⋅  ⋅  ⋅  1"
      ]
     },
     "execution_count": 23,
     "metadata": {},
     "output_type": "execute_result"
    }
   ],
   "source": [
    "w_in = I(l1_n)"
   ]
  },
  {
   "cell_type": "code",
   "execution_count": 24,
   "id": "3795af18",
   "metadata": {},
   "outputs": [
    {
     "data": {
      "text/plain": [
       "process! (generic function with 1 method)"
      ]
     },
     "execution_count": 24,
     "metadata": {},
     "output_type": "execute_result"
    }
   ],
   "source": [
    "function process!(neuron, input_spikes, synapse)\n",
    "    for i in 1:total_time\n",
    "        if i == 0  # first step\n",
    "            neuron.V = dot(synapse, input_spikes[:, i]) * alpha\n",
    "            neuron.spike_out[i] = 0\n",
    "        else\n",
    "            neuron.V = neuron.V * alpha + dot(synapse, input_spikes[:, i])\n",
    "            if neuron.V >= θ\n",
    "                neuron.V = ρ\n",
    "                neuron.spike_out[i] = 1\n",
    "            else\n",
    "                neuron.spike_out[i] = 0\n",
    "            end\n",
    "        end\n",
    "    end\n",
    "    \n",
    "end"
   ]
  },
  {
   "cell_type": "code",
   "execution_count": 25,
   "id": "54473b76",
   "metadata": {},
   "outputs": [],
   "source": [
    "out_l1 = []\n",
    "for i in 1:l1_n\n",
    "    process!(l1[i], st_in, w_in[:, i])\n",
    "    push!(out_l1, l1[i].spike_out)\n",
    "end"
   ]
  },
  {
   "cell_type": "code",
   "execution_count": 26,
   "id": "57fc2e70",
   "metadata": {},
   "outputs": [
    {
     "data": {
      "text/plain": [
       "5-element Vector{Any}:\n",
       " Float32[0.0, 1.0, 0.0, 0.0, 0.0, 0.0, 1.0, 1.0, 0.0, 1.0  …  0.0, 0.0, 0.0, 0.0, 0.0, 0.0, 0.0, 0.0, 0.0, 0.0]\n",
       " Float32[1.0, 0.0, 0.0, 1.0, 1.0, 0.0, 0.0, 1.0, 1.0, 1.0  …  -9.11071f14, 4.583f-41, 4.8f-44, 0.0, 5.2f-44, 0.0, -9.110753f14, 4.583f-41, -9.110796f14, 4.583f-41]\n",
       " Float32[0.0, 0.0, 0.0, 0.0, 1.0, 0.0, 1.0, 0.0, 1.0, 0.0  …  4.6f-44, 0.0, -9.166287f14, 4.583f-41, -9.16633f14, 4.583f-41, 4.8f-44, 0.0, 5.2f-44, 0.0]\n",
       " Float32[0.0, 1.0, 1.0, 0.0, 0.0, 1.0, 1.0, 1.0, 1.0, 1.0  …  1.0f-45, 0.0, 0.0, 0.0, 0.0, 0.0, 0.0, 0.0, 0.0, 0.0]\n",
       " Float32[0.0, 0.0, 0.0, 1.0, 1.0, 1.0, 1.0, 0.0, 1.0, 1.0  …  0.0, 0.0, 0.0, 0.0, 0.0, 0.0, 0.0, 0.0, 0.0, 0.0]"
      ]
     },
     "execution_count": 26,
     "metadata": {},
     "output_type": "execute_result"
    }
   ],
   "source": [
    "out_l1"
   ]
  },
  {
   "cell_type": "code",
   "execution_count": 27,
   "id": "15e2b12a",
   "metadata": {},
   "outputs": [],
   "source": [
    "out_l2 = []\n",
    "for i in 1:l2_n\n",
    "    process!(l2[i], st_in, synapse[:, i])\n",
    "    push!(out_l2, l2[i].spike_out)\n",
    "end"
   ]
  },
  {
   "cell_type": "code",
   "execution_count": 28,
   "id": "f6c58112",
   "metadata": {},
   "outputs": [
    {
     "data": {
      "text/plain": [
       "3-element Vector{Any}:\n",
       " Float32[0.0, 1.0, 1.0, 0.0, 1.0, 1.0, 1.0, 1.0, 1.0, 1.0  …  1.0f-45, 0.0, 0.0, 0.0, 0.0, 0.0, 0.0, 0.0, 0.0, 0.0]\n",
       " Float32[1.0, 0.0, 1.0, 1.0, 1.0, 0.0, 1.0, 1.0, 1.0, 1.0  …  1.0f-45, 0.0, 0.0, 0.0, 0.0, 0.0, 0.0, 0.0, 0.0, 0.0]\n",
       " Float32[0.0, 0.0, 0.0, 1.0, 1.0, 1.0, 1.0, 0.0, 1.0, 1.0  …  0.0, 0.0, 0.0, 0.0, 0.0, 0.0, 0.0, 0.0, 0.0, 0.0]"
      ]
     },
     "execution_count": 28,
     "metadata": {},
     "output_type": "execute_result"
    }
   ],
   "source": [
    "out_l2"
   ]
  },
  {
   "cell_type": "code",
   "execution_count": null,
   "id": "27d3d54e",
   "metadata": {},
   "outputs": [],
   "source": []
  }
 ],
 "metadata": {
  "kernelspec": {
   "display_name": "Julia 1.8.5",
   "language": "julia",
   "name": "julia-1.8"
  },
  "language_info": {
   "file_extension": ".jl",
   "mimetype": "application/julia",
   "name": "julia",
   "version": "1.8.5"
  }
 },
 "nbformat": 4,
 "nbformat_minor": 5
}
