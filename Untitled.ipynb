{
 "cells": [
  {
   "cell_type": "markdown",
   "id": "3c688a2f",
   "metadata": {},
   "source": [
    "This notebook explores implementation of STDP as done by Izhikevich. It is a line-by-line reformulation of the matlab code in julia. The parameters, such as N of synapses may differ for ease of computation."
   ]
  },
  {
   "cell_type": "code",
   "execution_count": 1,
   "id": "39426710",
   "metadata": {},
   "outputs": [],
   "source": [
    "using Random"
   ]
  },
  {
   "cell_type": "code",
   "execution_count": 2,
   "id": "baef2839",
   "metadata": {},
   "outputs": [
    {
     "data": {
      "text/plain": [
       "TaskLocalRNG()"
      ]
     },
     "execution_count": 2,
     "metadata": {},
     "output_type": "execute_result"
    }
   ],
   "source": [
    "Random.seed!(1)  # for reproducibility"
   ]
  },
  {
   "cell_type": "code",
   "execution_count": 9,
   "id": "c7973c7f",
   "metadata": {},
   "outputs": [
    {
     "data": {
      "text/plain": [
       "10"
      ]
     },
     "execution_count": 9,
     "metadata": {},
     "output_type": "execute_result"
    }
   ],
   "source": [
    "M = 60  # number of synapses per neuron\n",
    "D = 20  # maximal conduction delay\n",
    "\n",
    "Ne = 400\n",
    "Ni = 100\n",
    "N = Ne + Ni\n",
    "\n",
    "a = [0.02*ones(Ne, 1); 0.1*ones(Ni, 1)]\n",
    "d = [8*ones(Ne, 1); 2 * ones(Ni, 1)]\n",
    "sm = 10  # maximum synaptic strength"
   ]
  },
  {
   "cell_type": "code",
   "execution_count": 11,
   "id": "6d651c65",
   "metadata": {},
   "outputs": [
    {
     "data": {
      "text/plain": [
       "500×60 Matrix{Float64}:\n",
       " 319.0  158.0  324.0  222.0  433.0  …   34.0  382.0  264.0  466.0  481.0\n",
       " 316.0   17.0   57.0  401.0  334.0     496.0  368.0   51.0  435.0  500.0\n",
       " 456.0  346.0  182.0  362.0  469.0     195.0   46.0   29.0   76.0  300.0\n",
       " 167.0  256.0   50.0  384.0  361.0     187.0  164.0  181.0   68.0    8.0\n",
       " 216.0  470.0    2.0   88.0  135.0     266.0  303.0  170.0  426.0  455.0\n",
       " 321.0   29.0  416.0  276.0  368.0  …   84.0  419.0  273.0  325.0   25.0\n",
       " 318.0  409.0  141.0   79.0  337.0     431.0  497.0   74.0  117.0    4.0\n",
       " 155.0   31.0  302.0   85.0  201.0       2.0  290.0  349.0  255.0  121.0\n",
       " 395.0  333.0  372.0  160.0  120.0      43.0  362.0  415.0  202.0  338.0\n",
       " 250.0   60.0  344.0  128.0  484.0     409.0  312.0  128.0  455.0   67.0\n",
       "  53.0  411.0  480.0  350.0  360.0  …  150.0  190.0  159.0   73.0  323.0\n",
       " 481.0  368.0  288.0  192.0  277.0     260.0  167.0   96.0  323.0  383.0\n",
       " 102.0  319.0  388.0  246.0  499.0     156.0   25.0  185.0  173.0   14.0\n",
       "   ⋮                                ⋱    ⋮                         \n",
       " 103.0  157.0  243.0   67.0   43.0     123.0  309.0  154.0  354.0  124.0\n",
       " 241.0  146.0   89.0   47.0  100.0     351.0   60.0  362.0   39.0  250.0\n",
       " 268.0    7.0   87.0  319.0  160.0  …  203.0   55.0  159.0  104.0  208.0\n",
       " 370.0   60.0  102.0  259.0   99.0     106.0  161.0   76.0  106.0  175.0\n",
       " 351.0  306.0  194.0  149.0  346.0     258.0   16.0    9.0  200.0  203.0\n",
       " 211.0  310.0    6.0   16.0  279.0      36.0  142.0  386.0  391.0    9.0\n",
       " 154.0  288.0  157.0  228.0   92.0     296.0  346.0  122.0  115.0   64.0\n",
       " 398.0  384.0   25.0  134.0  153.0  …  366.0   32.0  320.0  106.0  180.0\n",
       " 233.0  143.0   89.0  185.0   89.0     367.0  193.0   55.0  330.0   54.0\n",
       " 328.0   26.0  314.0  284.0  380.0     276.0  244.0   46.0   91.0   12.0\n",
       "  63.0   39.0   81.0  100.0  156.0      12.0  296.0  212.0  213.0  194.0\n",
       "  48.0   55.0  331.0   54.0  101.0     132.0  158.0  251.0  392.0  324.0"
      ]
     },
     "execution_count": 11,
     "metadata": {},
     "output_type": "execute_result"
    }
   ],
   "source": [
    "# run only once\n",
    "# post = ceil.([N*rand(Ne, M); Ne*rand(Ni, M)])  "
   ]
  },
  {
   "cell_type": "code",
   "execution_count": 14,
   "id": "76053af5",
   "metadata": {},
   "outputs": [
    {
     "ename": "LoadError",
     "evalue": "syntax: incomplete: \"for\" at In[14]:2 requires end",
     "output_type": "error",
     "traceback": [
      "syntax: incomplete: \"for\" at In[14]:2 requires end",
      "",
      "Stacktrace:",
      " [1] top-level scope",
      "   @ In[14]:2"
     ]
    }
   ],
   "source": [
    "delays = Matrix(undef, N, D)\n",
    "for i in 1:Ne\n",
    "    p = randperm(N)\n",
    "    post[i, :] = p[1:M]\n",
    "    for j in 1:M\n",
    "        delays[i, ceil(D*rand)] "
   ]
  },
  {
   "cell_type": "code",
   "execution_count": 7,
   "id": "c3b3416c",
   "metadata": {},
   "outputs": [
    {
     "data": {
      "text/plain": [
       "500×1 Matrix{Float64}:\n",
       " 8.0\n",
       " 8.0\n",
       " 8.0\n",
       " 8.0\n",
       " 8.0\n",
       " 8.0\n",
       " 8.0\n",
       " 8.0\n",
       " 8.0\n",
       " 8.0\n",
       " 8.0\n",
       " 8.0\n",
       " 8.0\n",
       " ⋮\n",
       " 2.0\n",
       " 2.0\n",
       " 2.0\n",
       " 2.0\n",
       " 2.0\n",
       " 2.0\n",
       " 2.0\n",
       " 2.0\n",
       " 2.0\n",
       " 2.0\n",
       " 2.0\n",
       " 2.0"
      ]
     },
     "execution_count": 7,
     "metadata": {},
     "output_type": "execute_result"
    }
   ],
   "source": [
    "a = [0.02*ones(Ne, 1); 0.1*ones(Ni, 1)]\n",
    "d = [8*ones(Ne, 1); 2 * ones(Ni, 1)]"
   ]
  },
  {
   "cell_type": "code",
   "execution_count": null,
   "id": "593a7aad",
   "metadata": {},
   "outputs": [],
   "source": []
  }
 ],
 "metadata": {
  "kernelspec": {
   "display_name": "Julia 1.8.5",
   "language": "julia",
   "name": "julia-1.8"
  },
  "language_info": {
   "file_extension": ".jl",
   "mimetype": "application/julia",
   "name": "julia",
   "version": "1.8.5"
  }
 },
 "nbformat": 4,
 "nbformat_minor": 5
}
