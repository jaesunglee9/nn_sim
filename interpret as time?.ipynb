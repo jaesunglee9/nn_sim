{
 "cells": [
  {
   "cell_type": "code",
   "execution_count": 9,
   "id": "41c67ef4",
   "metadata": {},
   "outputs": [],
   "source": [
    "using LinearAlgebra"
   ]
  },
  {
   "cell_type": "code",
   "execution_count": 73,
   "id": "5cf2d5f6",
   "metadata": {},
   "outputs": [
    {
     "data": {
      "text/plain": [
       "2"
      ]
     },
     "execution_count": 73,
     "metadata": {},
     "output_type": "execute_result"
    }
   ],
   "source": [
    "threshold = 2"
   ]
  },
  {
   "cell_type": "code",
   "execution_count": 74,
   "id": "5cbb5c91",
   "metadata": {},
   "outputs": [
    {
     "data": {
      "text/plain": [
       "5×104 Matrix{Float64}:\n",
       " 0.0  0.0  0.0  0.0  0.0  0.0  0.0  1.0  …  0.0  0.0  1.0  0.0  0.0  0.0  0.0\n",
       " 0.0  0.0  0.0  0.0  1.0  0.0  0.0  1.0     0.0  0.0  0.0  0.0  1.0  1.0  0.0\n",
       " 0.0  0.0  0.0  0.0  1.0  1.0  0.0  1.0     0.0  1.0  1.0  1.0  0.0  0.0  1.0\n",
       " 0.0  0.0  0.0  0.0  1.0  1.0  1.0  0.0     0.0  1.0  0.0  1.0  0.0  1.0  0.0\n",
       " 0.0  0.0  0.0  0.0  1.0  1.0  1.0  0.0     1.0  0.0  0.0  1.0  0.0  0.0  1.0"
      ]
     },
     "execution_count": 74,
     "metadata": {},
     "output_type": "execute_result"
    }
   ],
   "source": [
    "spiketrain = hcat(zeros(Float32, 5, 4), rand([0., 1.], 5, 100))"
   ]
  },
  {
   "cell_type": "code",
   "execution_count": 75,
   "id": "bc852c7f",
   "metadata": {},
   "outputs": [
    {
     "data": {
      "text/plain": [
       "mask (generic function with 1 method)"
      ]
     },
     "execution_count": 75,
     "metadata": {},
     "output_type": "execute_result"
    }
   ],
   "source": [
    "function mask(potential)\n",
    "    spike_out = zeros(size(potential))\n",
    "    kernel = [.0625 .125 .25 .5 1.]\n",
    "    t = 5\n",
    "    while t <= size(potential)[2]\n",
    "        v = dot(potential[t-4:t], kernel)\n",
    "        if v > threshold\n",
    "            spike_out[t] = 1.\n",
    "            potential[t-3:t+1] = [0 0 0 0 0 ]\n",
    "            t += 1\n",
    "        end\n",
    "        t += 1\n",
    "    end\n",
    "    return spike_out\n",
    "end"
   ]
  },
  {
   "cell_type": "code",
   "execution_count": 76,
   "id": "c5a2af3a",
   "metadata": {},
   "outputs": [
    {
     "data": {
      "text/plain": [
       "5×5 Matrix{Float64}:\n",
       " 0.064481   0.0139096  0.196931    0.142397   0.00328801\n",
       " 0.0691523  0.116002   0.102366    0.0466954  0.0633898\n",
       " 0.192122   0.127635   0.120177    0.157985   0.19771\n",
       " 0.147406   0.170874   0.00473909  0.0995363  0.0822955\n",
       " 0.0688047  0.0087239  0.194934    0.0853888  0.0489231"
      ]
     },
     "execution_count": 76,
     "metadata": {},
     "output_type": "execute_result"
    }
   ],
   "source": [
    "w = rand(5, 5) * 0.2"
   ]
  },
  {
   "cell_type": "code",
   "execution_count": 77,
   "id": "b4eb73c3",
   "metadata": {},
   "outputs": [
    {
     "data": {
      "text/plain": [
       "1×104 Matrix{Float64}:\n",
       " 0.0  0.0  0.0  0.0  1.9839  1.54675  …  0.437144  0.969146  1.01475"
      ]
     },
     "execution_count": 77,
     "metadata": {},
     "output_type": "execute_result"
    }
   ],
   "source": [
    "vsoma = sum(w * spiketrain, dims=1)"
   ]
  },
  {
   "cell_type": "code",
   "execution_count": 78,
   "id": "f2a5ecb1",
   "metadata": {},
   "outputs": [
    {
     "data": {
      "text/plain": [
       "1×104 Matrix{Float64}:\n",
       " 0.0  0.0  0.0  0.0  0.0  1.0  0.0  0.0  …  0.0  0.0  0.0  1.0  0.0  0.0  0.0"
      ]
     },
     "execution_count": 78,
     "metadata": {},
     "output_type": "execute_result"
    }
   ],
   "source": [
    "spike_out = mask(vsoma)"
   ]
  },
  {
   "cell_type": "code",
   "execution_count": 79,
   "id": "67df458a",
   "metadata": {},
   "outputs": [
    {
     "data": {
      "text/plain": [
       "28.0"
      ]
     },
     "execution_count": 79,
     "metadata": {},
     "output_type": "execute_result"
    }
   ],
   "source": [
    "sum(spike_out)"
   ]
  },
  {
   "cell_type": "code",
   "execution_count": 83,
   "id": "6067385e",
   "metadata": {},
   "outputs": [
    {
     "data": {
      "text/plain": [
       "10-element Vector{Float64}:\n",
       " 0.0\n",
       " 0.0\n",
       " 1.0\n",
       " 0.0\n",
       " 0.0\n",
       " 0.0\n",
       " 1.0\n",
       " 0.0\n",
       " 0.0\n",
       " 0.0"
      ]
     },
     "execution_count": 83,
     "metadata": {},
     "output_type": "execute_result"
    }
   ],
   "source": [
    "function loss(st_hat, st)"
   ]
  },
  {
   "cell_type": "code",
   "execution_count": null,
   "id": "394a3f70",
   "metadata": {},
   "outputs": [],
   "source": []
  }
 ],
 "metadata": {
  "kernelspec": {
   "display_name": "Julia 1.8.5",
   "language": "julia",
   "name": "julia-1.8"
  },
  "language_info": {
   "file_extension": ".jl",
   "mimetype": "application/julia",
   "name": "julia",
   "version": "1.8.5"
  }
 },
 "nbformat": 4,
 "nbformat_minor": 5
}
